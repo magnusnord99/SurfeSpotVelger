{
  "cells": [
    {
      "cell_type": "markdown",
      "metadata": {},
      "source": [
        "# SurfeSpotVelger - Data Analyse\n",
        "\n",
        "Dette noteboket brukes for å analysere surf-data og eksperimentere med modeller.\n"
      ]
    },
    {
      "cell_type": "code",
      "execution_count": null,
      "metadata": {},
      "outputs": [],
      "source": [
        "import sys\n",
        "import os\n",
        "sys.path.append('../')\n",
        "sys.path.append('../ml')\n",
        "sys.path.append('../backend')\n",
        "\n",
        "import pandas as pd\n",
        "import numpy as np\n",
        "import matplotlib.pyplot as plt\n",
        "import seaborn as sns\n",
        "from datetime import datetime\n",
        "\n",
        "from ml.data_processor import SurfDataProcessor\n",
        "from ml.model_trainer import SurfModelTrainer\n",
        "from ml.baseline_recommender import BaselineRecommender\n",
        "\n",
        "# Setup plotting\n",
        "plt.style.use('seaborn-v0_8')\n",
        "sns.set_palette(\"husl\")\n",
        "%matplotlib inline\n"
      ]
    }
  ],
  "metadata": {
    "language_info": {
      "name": "python"
    }
  },
  "nbformat": 4,
  "nbformat_minor": 2
}
